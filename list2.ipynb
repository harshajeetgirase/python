{
 "cells": [
  {
   "cell_type": "code",
   "execution_count": 3,
   "id": "32d80183",
   "metadata": {},
   "outputs": [
    {
     "data": {
      "text/plain": [
       "[10, 1, 20, 23, 30, 40, 55, 50]"
      ]
     },
     "execution_count": 3,
     "metadata": {},
     "output_type": "execute_result"
    }
   ],
   "source": [
    "# copy function\n",
    "\n",
    "a=[10,1,20,23,30,40,55,50]\n",
    "b=a\n",
    "\n",
    "b"
   ]
  },
  {
   "cell_type": "code",
   "execution_count": 5,
   "id": "e4c5ac2e",
   "metadata": {},
   "outputs": [
    {
     "data": {
      "text/plain": [
       "3"
      ]
     },
     "execution_count": 5,
     "metadata": {},
     "output_type": "execute_result"
    }
   ],
   "source": [
    "# count function\n",
    "\n",
    "a=[10,1,20,23,30,40,55,50,20,20]\n",
    "\n",
    "b=a.count(20)\n",
    "\n",
    "b"
   ]
  },
  {
   "cell_type": "code",
   "execution_count": 9,
   "id": "89674d2f",
   "metadata": {},
   "outputs": [
    {
     "data": {
      "text/plain": [
       "2"
      ]
     },
     "execution_count": 9,
     "metadata": {},
     "output_type": "execute_result"
    }
   ],
   "source": [
    "# index function\n",
    "a=[10,1,20,23,30,40,55,50,20]\n",
    "b=a.index(20)\n",
    "b"
   ]
  },
  {
   "cell_type": "code",
   "execution_count": 10,
   "id": "0ec18436",
   "metadata": {},
   "outputs": [
    {
     "name": "stdout",
     "output_type": "stream",
     "text": [
      "[10, 1, 20, 23, 30, 40, 55, 50]\n"
     ]
    }
   ],
   "source": [
    "# remove duplicate element in the list \n",
    "a=[10,1,20,23,30,40,55,50,20]\n",
    "\n",
    "b=[]\n",
    "for i in a:\n",
    "    if i not in b:\n",
    "        b.append(i)\n",
    "        \n",
    "print(b)\n"
   ]
  },
  {
   "cell_type": "code",
   "execution_count": 2,
   "id": "733cb5b4",
   "metadata": {},
   "outputs": [
    {
     "name": "stdout",
     "output_type": "stream",
     "text": [
      "5 is the common elemrnt  in the list\n"
     ]
    }
   ],
   "source": [
    "# commom element in the list \n",
    "\n",
    "a=[5,6,7,8,9]\n",
    "b=[1,2,3,4,5]\n",
    "\n",
    "for x in a:\n",
    "    if x in b:\n",
    "        print(x,'is the common elemrnt  in the list')\n",
    "        break\n",
    "        \n",
    "else:\n",
    "    print(\"No common elements are presnt in the list \")\n",
    "    \n"
   ]
  },
  {
   "cell_type": "code",
   "execution_count": 5,
   "id": "82b77441",
   "metadata": {},
   "outputs": [
    {
     "name": "stdout",
     "output_type": "stream",
     "text": [
      "[5, 6, 8]\n"
     ]
    }
   ],
   "source": [
    "# common element presen tin the list \n",
    "a=[5,6,7,8,9]\n",
    "b=[6,8,5,2,1]\n",
    "\n",
    "x=[]\n",
    "for i in a:\n",
    "    if i in b:\n",
    "        x.append(i)\n",
    "        \n",
    "print(x)"
   ]
  },
  {
   "cell_type": "code",
   "execution_count": 8,
   "id": "85ac78b8",
   "metadata": {},
   "outputs": [
    {
     "name": "stdout",
     "output_type": "stream",
     "text": [
      "[7, 9]\n"
     ]
    }
   ],
   "source": [
    "# not common element in the list \n",
    "a=[5,6,7,8,9]\n",
    "b=[6,8,5,2,1]\n",
    "\n",
    "x=[]\n",
    "for i in a:\n",
    "    if i not in b:\n",
    "        x.append(i)\n",
    "    \n",
    "        \n",
    "print(x)"
   ]
  },
  {
   "cell_type": "code",
   "execution_count": 15,
   "id": "8cf6950d",
   "metadata": {},
   "outputs": [
    {
     "name": "stdout",
     "output_type": "stream",
     "text": [
      "3\n"
     ]
    }
   ],
   "source": [
    "# to check the first and last element in the string are same or not\n",
    "\n",
    "a=['123','aba','aabbaa','112211']\n",
    "\n",
    "c=0\n",
    "for i in a:\n",
    "    if len(a)>=2 and i[0]==i[-1]:\n",
    "        c+=1\n",
    "        \n",
    "print(c)"
   ]
  },
  {
   "cell_type": "code",
   "execution_count": 16,
   "id": "46f4f339",
   "metadata": {},
   "outputs": [
    {
     "ename": "TypeError",
     "evalue": "'int' object is not subscriptable",
     "output_type": "error",
     "traceback": [
      "\u001b[1;31m---------------------------------------------------------------------------\u001b[0m",
      "\u001b[1;31mTypeError\u001b[0m                                 Traceback (most recent call last)",
      "Input \u001b[1;32mIn [16]\u001b[0m, in \u001b[0;36m<cell line: 6>\u001b[1;34m()\u001b[0m\n\u001b[0;32m      3\u001b[0m a\u001b[38;5;241m=\u001b[39m[\u001b[38;5;241m5\u001b[39m,\u001b[38;5;241m6\u001b[39m,\u001b[38;5;241m7\u001b[39m,\u001b[38;5;241m8\u001b[39m,\u001b[38;5;241m9\u001b[39m]\n\u001b[0;32m      4\u001b[0m b\u001b[38;5;241m=\u001b[39m[\u001b[38;5;241m1\u001b[39m,\u001b[38;5;241m2\u001b[39m,\u001b[38;5;241m3\u001b[39m,\u001b[38;5;241m4\u001b[39m,\u001b[38;5;241m5\u001b[39m]\n\u001b[1;32m----> 6\u001b[0m c\u001b[38;5;241m=\u001b[39m[i \u001b[38;5;28;01mfor\u001b[39;00m i \u001b[38;5;129;01min\u001b[39;00m a \u001b[38;5;28;01mif\u001b[39;00m \u001b[38;5;28mlen\u001b[39m(a)\u001b[38;5;241m>\u001b[39m\u001b[38;5;241m=\u001b[39m\u001b[38;5;241m2\u001b[39m \u001b[38;5;129;01mand\u001b[39;00m i[\u001b[38;5;241m0\u001b[39m]\u001b[38;5;241m==\u001b[39mi[\u001b[38;5;241m-\u001b[39m\u001b[38;5;241m1\u001b[39m]]\n\u001b[0;32m      8\u001b[0m \u001b[38;5;28mprint\u001b[39m(c)\n",
      "Input \u001b[1;32mIn [16]\u001b[0m, in \u001b[0;36m<listcomp>\u001b[1;34m(.0)\u001b[0m\n\u001b[0;32m      3\u001b[0m a\u001b[38;5;241m=\u001b[39m[\u001b[38;5;241m5\u001b[39m,\u001b[38;5;241m6\u001b[39m,\u001b[38;5;241m7\u001b[39m,\u001b[38;5;241m8\u001b[39m,\u001b[38;5;241m9\u001b[39m]\n\u001b[0;32m      4\u001b[0m b\u001b[38;5;241m=\u001b[39m[\u001b[38;5;241m1\u001b[39m,\u001b[38;5;241m2\u001b[39m,\u001b[38;5;241m3\u001b[39m,\u001b[38;5;241m4\u001b[39m,\u001b[38;5;241m5\u001b[39m]\n\u001b[1;32m----> 6\u001b[0m c\u001b[38;5;241m=\u001b[39m[i \u001b[38;5;28;01mfor\u001b[39;00m i \u001b[38;5;129;01min\u001b[39;00m a \u001b[38;5;28;01mif\u001b[39;00m \u001b[38;5;28mlen\u001b[39m(a)\u001b[38;5;241m>\u001b[39m\u001b[38;5;241m=\u001b[39m\u001b[38;5;241m2\u001b[39m \u001b[38;5;129;01mand\u001b[39;00m \u001b[43mi\u001b[49m\u001b[43m[\u001b[49m\u001b[38;5;241;43m0\u001b[39;49m\u001b[43m]\u001b[49m\u001b[38;5;241m==\u001b[39mi[\u001b[38;5;241m-\u001b[39m\u001b[38;5;241m1\u001b[39m]]\n\u001b[0;32m      8\u001b[0m \u001b[38;5;28mprint\u001b[39m(c)\n",
      "\u001b[1;31mTypeError\u001b[0m: 'int' object is not subscriptable"
     ]
    }
   ],
   "source": [
    "# by list compresion method\n",
    "\n",
    "a=[5,6,7,8,9]\n",
    "b=[1,2,3,4,5]\n",
    "\n",
    "c=[i for i in a if len(a)>=2 and i[0]==i[-1]]\n",
    "\n",
    "print(c)\n",
    "\n",
    "\n"
   ]
  },
  {
   "cell_type": "code",
   "execution_count": 18,
   "id": "14e154c0",
   "metadata": {},
   "outputs": [
    {
     "name": "stdout",
     "output_type": "stream",
     "text": [
      "[1, 5, 11]\n"
     ]
    }
   ],
   "source": [
    "# print the even number in the list by list compresion method\n",
    "\n",
    "x=[1,2,4,6,5,8,10,11,12]\n",
    "\n",
    "c=[i for i in x if i%2!=0]\n",
    "\n",
    "print(c)"
   ]
  },
  {
   "cell_type": "code",
   "execution_count": null,
   "id": "8465fe54",
   "metadata": {},
   "outputs": [],
   "source": [
    "# print the number which is greater by the given by list compresion method\n",
    "\n",
    "x=[1,2,4,6,5,8,10,11,12,20,25,29,26,78]\n",
    "n=int(input(\"Enter a number : \"))\n",
    "c=[i for i in x if i>n]\n",
    "\n",
    "print(c)\n"
   ]
  },
  {
   "cell_type": "code",
   "execution_count": 1,
   "id": "66353c17",
   "metadata": {},
   "outputs": [
    {
     "name": "stdout",
     "output_type": "stream",
     "text": [
      "[1, 2, 3, 4, 5, 6, 7, 8]\n",
      "[[1, 2, 3, 4, 5, 6, 7, 8]]\n"
     ]
    }
   ],
   "source": [
    "# list\n",
    "m=[]\n",
    "a=[int(x) for x in range(1,9)]\n",
    "m.append(a)\n",
    "\n",
    "print(a)\n",
    "print(m)"
   ]
  },
  {
   "cell_type": "code",
   "execution_count": 3,
   "id": "23d3b0fd",
   "metadata": {},
   "outputs": [
    {
     "name": "stdout",
     "output_type": "stream",
     "text": [
      "[[1, 2, 3, 4, 5, 6, 7, 8], [1, 2, 3, 4, 5, 6, 7, 8], [1, 2, 3, 4, 5, 6, 7, 8]]\n",
      "<class 'list'>\n"
     ]
    }
   ],
   "source": [
    "m=[]\n",
    "\n",
    "for i in range(3):\n",
    "    a=[int(x) for x in range(1,9)]\n",
    "    m.append(a)\n",
    "    \n",
    "print(m)\n",
    "print(type(m))"
   ]
  },
  {
   "cell_type": "code",
   "execution_count": 4,
   "id": "2ddbea56",
   "metadata": {},
   "outputs": [
    {
     "name": "stdout",
     "output_type": "stream",
     "text": [
      "10 20 30\n"
     ]
    }
   ],
   "source": [
    "a=[10,20,30]\n",
    "p,q,r=a\n",
    "\n",
    "print(p,q,r)\n"
   ]
  },
  {
   "cell_type": "code",
   "execution_count": 7,
   "id": "29360397",
   "metadata": {},
   "outputs": [
    {
     "name": "stdout",
     "output_type": "stream",
     "text": [
      "Enter a Dimension\n",
      "3 4\n",
      "3 4\n",
      "[[1, 1, 1], [1, 1, 1], [1, 1, 1]]\n"
     ]
    }
   ],
   "source": [
    "# matrix\n",
    "\n",
    "print(\"Enter a Dimension\")\n",
    "r,c=[int (x) for x in input().split()]\n",
    "\n",
    "m=[]\n",
    "\n",
    "for x in range(3):\n",
    "    a=[1 for j in range(3)]\n",
    "    m.append(a)\n",
    "    \n",
    "\n",
    "print(r,c)\n",
    "print(m)"
   ]
  },
  {
   "cell_type": "code",
   "execution_count": 19,
   "id": "a02e9cd7",
   "metadata": {},
   "outputs": [
    {
     "name": "stdout",
     "output_type": "stream",
     "text": [
      "*  *  *  *  \n",
      "*  *  *  *  \n",
      "*  *  *  *  \n",
      "*  *  *  *  \n"
     ]
    }
   ],
   "source": [
    "# star pattern\n",
    "\n",
    "for i in range(4):\n",
    "    for j in range(4):\n",
    "        print(\"* \",end=\" \")\n",
    "    print()"
   ]
  },
  {
   "cell_type": "code",
   "execution_count": 2,
   "id": "bb84dc24",
   "metadata": {},
   "outputs": [
    {
     "name": "stdout",
     "output_type": "stream",
     "text": [
      "Enter a rown number : 2\n",
      "Enter a column number : 2\n",
      "harsh\n",
      "Row 1\n",
      "columns 1\n",
      "Enter a elemnts : 1\n",
      "columns 2\n",
      "Enter a elemnts : 2\n",
      "Row 2\n",
      "columns 1\n",
      "Enter a elemnts : 1\n",
      "columns 2\n",
      "Enter a elemnts : 2\n",
      "[[1, 2], [1, 2]]\n"
     ]
    }
   ],
   "source": [
    "# matrix addition\n",
    "\n",
    "r=int(input(\"Enter a rown number : \"))\n",
    "c=int(input(\"Enter a column number : \"))\n",
    "\n",
    "print(\"harsh\")\n",
    "m=[]\n",
    "for x in range(r):\n",
    "    ma=[]\n",
    "    print(\"Row\",x+1)\n",
    "    for y in range(c):\n",
    "        print(\"columns\",y+1)\n",
    "        ma_1=int(input(\"Enter a elemnts : \"))\n",
    "        ma.append(ma_1)\n",
    "    m.append(ma)\n",
    "        \n",
    "print(m)"
   ]
  },
  {
   "cell_type": "code",
   "execution_count": 4,
   "id": "1bba2631",
   "metadata": {},
   "outputs": [
    {
     "name": "stdout",
     "output_type": "stream",
     "text": [
      "Enter a rows : 2\n",
      "Enter a colums : 2\n",
      "Enter a element : 2\n",
      "Enter a element : 2\n",
      "Enter a element : 2\n",
      "Enter a element : 2\n",
      "[[2, 2], [2, 2]]\n",
      "Enter a element : 2\n",
      "Enter a element : 2\n",
      "Enter a element : 2\n",
      "Enter a element : 2\n",
      "[[2, 2], [2, 2]]\n",
      "[[4, 4], [4, 4]]\n"
     ]
    }
   ],
   "source": [
    "# create matrix\n",
    "\n",
    "r=int(input(\"Enter a rows : \"))\n",
    "c=int(input(\"Enter a colums : \"))\n",
    "\n",
    "m1=[]\n",
    "\n",
    "for i in range(r):\n",
    "    ma=[]\n",
    "    for j in range(c):\n",
    "        ma_1=int(input(\"Enter a element : \"))\n",
    "        ma.append(ma_1)\n",
    "    m1.append(ma)\n",
    "print(m1)\n",
    "m2=[]\n",
    "    \n",
    "for i in range(r):\n",
    "    ma=[]\n",
    "    for j in range(c):\n",
    "        ma_1=int(input(\"Enter a element : \"))\n",
    "        ma.append(ma_1)\n",
    "    m2.append(ma)\n",
    "print(m2)   \n",
    "\n",
    "m3=[]\n",
    "\n",
    "for i in range(r):\n",
    "    a=[]\n",
    "    for y in range(c):\n",
    "        a.append(m1[i][j]+m2[i][j])\n",
    "    m3.append(a)\n",
    "    \n",
    "print(m3)"
   ]
  },
  {
   "cell_type": "code",
   "execution_count": 5,
   "id": "eba9e834",
   "metadata": {},
   "outputs": [
    {
     "name": "stdout",
     "output_type": "stream",
     "text": [
      "Enter a size of row : 2\n",
      "Enter a size of column : 1\n",
      "1\n",
      "1\n",
      "[[1], [1]]\n"
     ]
    }
   ],
   "source": [
    "# multiplication\n",
    "\n",
    "r=int(input(\"Enter a size of row : \"))\n",
    "c=int(input(\"Enter a size of column : \"))\n",
    "\n",
    "m1=[]\n",
    "\n",
    "for i in range(r):\n",
    "    ma=[]\n",
    "    for j in range(c):\n",
    "        ma_1=int(input(\"Enter a element : \"))\n",
    "        ma.append(ma_1)\n",
    "    m1.append(ma)\n",
    "print(m1)\n",
    "\n",
    "m2=[]\n",
    "\n",
    "for i in range(r):\n",
    "    ma=[]\n",
    "    for j in range(c):\n",
    "        ma_1=int(input(\"Enter a element : \"))\n",
    "        ma.append(ma_1)\n",
    "    m2.append(ma)\n",
    "print(m2)\n",
    "\n",
    "m3=[]\n",
    "\n",
    "for i in range(r):\n",
    "    a=[]\n",
    "    for "
   ]
  },
  {
   "cell_type": "code",
   "execution_count": null,
   "id": "c2007ad0",
   "metadata": {},
   "outputs": [],
   "source": [
    "# lists i\n"
   ]
  }
 ],
 "metadata": {
  "kernelspec": {
   "display_name": "Python 3 (ipykernel)",
   "language": "python",
   "name": "python3"
  },
  "language_info": {
   "codemirror_mode": {
    "name": "ipython",
    "version": 3
   },
   "file_extension": ".py",
   "mimetype": "text/x-python",
   "name": "python",
   "nbconvert_exporter": "python",
   "pygments_lexer": "ipython3",
   "version": "3.9.12"
  }
 },
 "nbformat": 4,
 "nbformat_minor": 5
}
