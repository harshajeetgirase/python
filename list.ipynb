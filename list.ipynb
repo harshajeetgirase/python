{
 "cells": [
  {
   "cell_type": "code",
   "execution_count": 7,
   "id": "e79f2d67",
   "metadata": {},
   "outputs": [
    {
     "name": "stdout",
     "output_type": "stream",
     "text": [
      "Enter a element in the list []: [25,25,25]\n",
      "75\n",
      "75\n"
     ]
    }
   ],
   "source": [
    "# for sum()\n",
    "\n",
    "a=eval(input(\"Enter a element in the list []: \"))\n",
    "b=sum(a)\n",
    "print(b)\n",
    "\n",
    "s=0\n",
    "\n",
    "for i in a:\n",
    "    s=s+i\n",
    "    \n",
    "print(s)"
   ]
  },
  {
   "cell_type": "code",
   "execution_count": 11,
   "id": "d0dbb5c4",
   "metadata": {},
   "outputs": [
    {
     "name": "stdout",
     "output_type": "stream",
     "text": [
      "82\n",
      "82\n"
     ]
    }
   ],
   "source": [
    "# for max or max in the lists\n",
    "\n",
    "a=[25,26,27,82]\n",
    "b=max(a)\n",
    "print(b)\n",
    "s=a[0];\n",
    "\n",
    "for i in a:\n",
    "    if i>s:\n",
    "        s=i\n",
    "print(s)        \n"
   ]
  },
  {
   "cell_type": "code",
   "execution_count": 15,
   "id": "5340788e",
   "metadata": {},
   "outputs": [
    {
     "data": {
      "text/plain": [
       "False"
      ]
     },
     "execution_count": 15,
     "metadata": {},
     "output_type": "execute_result"
    }
   ],
   "source": [
    "# for all functio 0 for false otherwise true\n",
    "\n",
    "a=[25,26,0,27,82]\n",
    "\n",
    "b=all(a)\n",
    "\n",
    "b\n"
   ]
  },
  {
   "cell_type": "code",
   "execution_count": 17,
   "id": "15b7dfa8",
   "metadata": {},
   "outputs": [
    {
     "data": {
      "text/plain": [
       "True"
      ]
     },
     "execution_count": 17,
     "metadata": {},
     "output_type": "execute_result"
    }
   ],
   "source": [
    "# for any function\n",
    "\n",
    "a=[25,26,27,0,82]\n",
    "b=any(a)\n",
    "b"
   ]
  },
  {
   "cell_type": "code",
   "execution_count": 18,
   "id": "9656fbd1",
   "metadata": {},
   "outputs": [
    {
     "data": {
      "text/plain": [
       "[1, 2, 3, 4, 5, 6, 7, 8, 9, 10]"
      ]
     },
     "execution_count": 18,
     "metadata": {},
     "output_type": "execute_result"
    }
   ],
   "source": [
    "# create list using list function\n",
    "\n",
    "a=list(range(1,11))\n",
    "\n",
    "a"
   ]
  },
  {
   "cell_type": "code",
   "execution_count": 19,
   "id": "75bea868",
   "metadata": {},
   "outputs": [
    {
     "name": "stdout",
     "output_type": "stream",
     "text": [
      "[1, 2, 3, 4, 5, 6, 7, 8, 9, 10]\n"
     ]
    }
   ],
   "source": [
    "# withou list function\n",
    "\n",
    "a=[]\n",
    "\n",
    "for i in range(1,11):\n",
    "    a.append(i)\n",
    "    \n",
    "print(a)"
   ]
  },
  {
   "cell_type": "code",
   "execution_count": 22,
   "id": "27fc73aa",
   "metadata": {},
   "outputs": [
    {
     "name": "stdout",
     "output_type": "stream",
     "text": [
      "[1, 2, 3, 4, 5, 6, 7, 8, 9, 10]\n"
     ]
    }
   ],
   "source": [
    "# list comphresion \n",
    "\n",
    "a=[x for x in range(1,11)]\n",
    "\n",
    "print(a)"
   ]
  },
  {
   "cell_type": "code",
   "execution_count": 24,
   "id": "ad389826",
   "metadata": {},
   "outputs": [
    {
     "name": "stdout",
     "output_type": "stream",
     "text": [
      "[2, 4, 6, 8, 10]\n"
     ]
    }
   ],
   "source": [
    "# crete a list of even number by lis compresion \n",
    "\n",
    "a=[x for x in range(2,11,2)]\n",
    "\n",
    "print(a)"
   ]
  },
  {
   "cell_type": "code",
   "execution_count": 26,
   "id": "31bf67b3",
   "metadata": {},
   "outputs": [
    {
     "name": "stdout",
     "output_type": "stream",
     "text": [
      "Enter a number : 5\n",
      "[100, 105, 110, 115, 120, 125, 130, 135, 140, 145, 150, 155, 160, 165, 170, 175, 180, 185, 190, 195, 200]\n"
     ]
    }
   ],
   "source": [
    "# create a list from 100,200 which is divisible by n\n",
    "\n",
    "a=[]\n",
    "n=int(input(\"Enter a number : \"))\n",
    "\n",
    "for i in range(100,201):\n",
    "    if i%n==0:\n",
    "        a.append(i)\n",
    "print(a)"
   ]
  },
  {
   "cell_type": "code",
   "execution_count": 29,
   "id": "d29feba0",
   "metadata": {},
   "outputs": [
    {
     "name": "stdout",
     "output_type": "stream",
     "text": [
      "Enter a number : 5\n",
      "[100, 105, 110, 115, 120, 125, 130, 135, 140, 145, 150, 155, 160, 165, 170, 175, 180, 185, 190, 195, 200]\n"
     ]
    }
   ],
   "source": [
    "# by list compresion method\n",
    "\n",
    "n==int(input(\"Enter a number : \"))\n",
    "a=[i for i in range(100,201) if i%n==0]\n",
    "\n",
    "print(a)"
   ]
  },
  {
   "cell_type": "code",
   "execution_count": 59,
   "id": "1618af70",
   "metadata": {},
   "outputs": [
    {
     "name": "stdout",
     "output_type": "stream",
     "text": [
      "[1, 20, 40, 25, 36, 25]\n"
     ]
    }
   ],
   "source": [
    "# insertion function\n",
    "\n",
    "c=[1,20,25,36,25]\n",
    "\n",
    "d = c.insert(2,40)\n",
    "\n",
    "print(c)"
   ]
  },
  {
   "cell_type": "code",
   "execution_count": 69,
   "id": "1ea48e74",
   "metadata": {},
   "outputs": [
    {
     "name": "stdout",
     "output_type": "stream",
     "text": [
      "[1, 20, 25, 86, 84, 4, 5, 6, 8]\n"
     ]
    }
   ],
   "source": [
    "c= [1,20,25,86,84]\n",
    "d = [4,5,6,8]\n",
    "c.extend(d)\n",
    "print(c)"
   ]
  },
  {
   "cell_type": "code",
   "execution_count": 67,
   "id": "94cddd3b",
   "metadata": {},
   "outputs": [
    {
     "name": "stdout",
     "output_type": "stream",
     "text": [
      "[1, 20, 86, 84]\n"
     ]
    }
   ],
   "source": [
    "# remove function\n",
    "e= [1,20,25,86,84]\n",
    "e.remove(25)\n",
    "\n",
    "print(e)"
   ]
  },
  {
   "cell_type": "code",
   "execution_count": 66,
   "id": "4e99d2a0",
   "metadata": {},
   "outputs": [
    {
     "data": {
      "text/plain": [
       "[50, 40, 30, 20, 10]"
      ]
     },
     "execution_count": 66,
     "metadata": {},
     "output_type": "execute_result"
    }
   ],
   "source": [
    "# reverse function\n",
    "\n",
    "a=[10,20,30,40,50]\n",
    "\n",
    "a.reverse()\n",
    "a"
   ]
  },
  {
   "cell_type": "code",
   "execution_count": 70,
   "id": "c4908560",
   "metadata": {},
   "outputs": [
    {
     "data": {
      "text/plain": [
       "[10, 20, 30, 40]"
      ]
     },
     "execution_count": 70,
     "metadata": {},
     "output_type": "execute_result"
    }
   ],
   "source": [
    "# pop function\n",
    "a=[10,20,30,40,50]\n",
    "\n",
    "a.pop()\n",
    "\n",
    "a"
   ]
  },
  {
   "cell_type": "code",
   "execution_count": 72,
   "id": "1a0e786f",
   "metadata": {},
   "outputs": [
    {
     "name": "stdout",
     "output_type": "stream",
     "text": [
      "[]\n"
     ]
    }
   ],
   "source": [
    "#clear function\n",
    "\n",
    "a=[10,20,30,40,50]\n",
    "a.clear()\n",
    "print(a)"
   ]
  },
  {
   "cell_type": "code",
   "execution_count": 77,
   "id": "accd65da",
   "metadata": {},
   "outputs": [
    {
     "data": {
      "text/plain": [
       "[1, 10, 20, 23, 30, 40, 50, 55]"
      ]
     },
     "execution_count": 77,
     "metadata": {},
     "output_type": "execute_result"
    }
   ],
   "source": [
    "# sort function\n",
    "a=[10,1,20,23,30,40,55,50]\n",
    "a.sort()\n",
    "a"
   ]
  },
  {
   "cell_type": "code",
   "execution_count": 78,
   "id": "0abe5b32",
   "metadata": {},
   "outputs": [
    {
     "name": "stdout",
     "output_type": "stream",
     "text": [
      "[1, 10, 20, 23, 30, 40, 50, 55]\n"
     ]
    }
   ],
   "source": [
    "# sorted function\n",
    "a=[10,1,20,23,30,40,55,50]\n",
    "b=sorted(a)\n",
    "print(b)"
   ]
  },
  {
   "cell_type": "code",
   "execution_count": null,
   "id": "a6195ae4",
   "metadata": {},
   "outputs": [],
   "source": []
  }
 ],
 "metadata": {
  "kernelspec": {
   "display_name": "Python 3 (ipykernel)",
   "language": "python",
   "name": "python3"
  },
  "language_info": {
   "codemirror_mode": {
    "name": "ipython",
    "version": 3
   },
   "file_extension": ".py",
   "mimetype": "text/x-python",
   "name": "python",
   "nbconvert_exporter": "python",
   "pygments_lexer": "ipython3",
   "version": "3.9.12"
  }
 },
 "nbformat": 4,
 "nbformat_minor": 5
}
