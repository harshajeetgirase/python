{
 "cells": [
  {
   "cell_type": "code",
   "execution_count": 4,
   "id": "fc3868ed",
   "metadata": {},
   "outputs": [
    {
     "name": "stdout",
     "output_type": "stream",
     "text": [
      "Welcome ,My name is HArshajeet Girase\n",
      " I am Second Year data science Student\n",
      "<__main__.Test object at 0x00000290D3024DF0>\n"
     ]
    }
   ],
   "source": [
    "# class\n",
    "class Test:\n",
    "    def method1(self):\n",
    "        print(\"Welcome ,My name is HArshajeet Girase\\n I am Second Year data science Student\")\n",
    "        \n",
    "\n",
    "t=Test()\n",
    "t.method1()\n",
    "print(t)\n"
   ]
  },
  {
   "cell_type": "code",
   "execution_count": 7,
   "id": "3ba968c5",
   "metadata": {},
   "outputs": [
    {
     "name": "stdout",
     "output_type": "stream",
     "text": [
      "Enter roll_no,age,name,city: 22 18 Harshajeet_Girase Dondaicha\n",
      "Enter roll_no,age,name,city: 25 19 Mayur_Patil Shirpur\n",
      " Student Details \n",
      "\n",
      "Roll no : 22                \n",
      "Age : 18                \n",
      "Name : Harshajeet_Girase                \n",
      "City : Dondaicha\n",
      "\n",
      "Roll no : 25                \n",
      "Age : 19                \n",
      "Name : Mayur_Patil                \n",
      "City : Shirpur\n"
     ]
    }
   ],
   "source": [
    "# student details and show details\n",
    "\n",
    "class Student:\n",
    "    def set_details(self,roll_no,age,name,city):\n",
    "        self.roll_no=int(roll_no)\n",
    "        self.age=int(age)\n",
    "        self.name=name\n",
    "        self.city=city\n",
    "        \n",
    "\n",
    "    def show_details(self):\n",
    "        print(f\"\\nRoll no : {self.roll_no}\\\n",
    "                \\nAge : {self.age}\\\n",
    "                \\nName : {self.name}\\\n",
    "                \\nCity : {self.city}\")\n",
    "arr=[] \n",
    "\n",
    "for i in range(2):\n",
    "    s=Student()\n",
    "    info=input(\"Enter roll_no,age,name,city: \").split()\n",
    "    s.set_details(*info)\n",
    "    arr.append(s)\n",
    "\n",
    "print(\" Student Details \")\n",
    "for s in arr:\n",
    "    s.show_details()\n",
    "    \n",
    "    "
   ]
  },
  {
   "cell_type": "code",
   "execution_count": 8,
   "id": "c8e54d62",
   "metadata": {},
   "outputs": [
    {
     "name": "stdout",
     "output_type": "stream",
     "text": [
      "Roll_no : 45                \n",
      "Name : harshajeet                \n",
      "Age: 25                \n",
      "Gender : m\n"
     ]
    }
   ],
   "source": [
    "# constuctor\n",
    "\n",
    "class Student:\n",
    "    def __init__(self,r,n,a,g):\n",
    "        self.roll_no=int(r)\n",
    "        self.name=n\n",
    "        self.age=int(a)\n",
    "        self.gender=g\n",
    "        \n",
    "    def show_details(self):\n",
    "        print(f\"Roll_no : {self.roll_no}\\\n",
    "                \\nName : {self.name}\\\n",
    "                \\nAge: {self.age}\\\n",
    "                \\nGender : {self.gender}\")\n",
    "              \n",
    "t1=Student(45,\"harshajeet\",25,\"m\")\n",
    "t1.show_details()             "
   ]
  },
  {
   "cell_type": "code",
   "execution_count": 15,
   "id": "fa881652",
   "metadata": {},
   "outputs": [
    {
     "name": "stdout",
     "output_type": "stream",
     "text": [
      "4\n",
      "8\n"
     ]
    }
   ],
   "source": [
    "# rectangle area and perimetre using class\n",
    "\n",
    "class Rectangle:\n",
    "    def __init__(self,leng,wid):\n",
    "        self.length=leng\n",
    "        self.width=wid\n",
    "        \n",
    "    def area(self):\n",
    "        return self.length*self.width\n",
    "    def per(self):\n",
    "        return 2*(self.length+self.width)\n",
    "    \n",
    "lengt    \n",
    "r=Rectangle()\n",
    "print(r.area())\n",
    "print(r.per())\n",
    "        "
   ]
  },
  {
   "cell_type": "code",
   "execution_count": 26,
   "id": "02ff48d9",
   "metadata": {},
   "outputs": [
    {
     "name": "stdout",
     "output_type": "stream",
     "text": [
      "Enter a length width: 2 2\n",
      "2 2\n"
     ]
    }
   ],
   "source": [
    "length,width=[x for x in input(\"Enter a length width: \").split()]\n",
    "\n",
    "print(length,width)"
   ]
  },
  {
   "cell_type": "code",
   "execution_count": 32,
   "id": "f646439f",
   "metadata": {},
   "outputs": [
    {
     "name": "stdout",
     "output_type": "stream",
     "text": [
      "78.57\n",
      "31.427999999999997\n"
     ]
    }
   ],
   "source": [
    "# area of circle anf circumference \n",
    "\n",
    "class Circle:\n",
    "    def __init__(self,radius):\n",
    "        self.radius=radius\n",
    "    def area(self):\n",
    "        return (3.1428*self.radius*self.radius)\n",
    "    def circum(self):\n",
    "        return (2*3.1428*self.radius)\n",
    "    \n",
    "t=Circle(5)\n",
    "print(t.area())\n",
    "print(t.circum())"
   ]
  },
  {
   "cell_type": "code",
   "execution_count": null,
   "id": "f62c2b60",
   "metadata": {},
   "outputs": [],
   "source": []
  }
 ],
 "metadata": {
  "kernelspec": {
   "display_name": "Python 3 (ipykernel)",
   "language": "python",
   "name": "python3"
  },
  "language_info": {
   "codemirror_mode": {
    "name": "ipython",
    "version": 3
   },
   "file_extension": ".py",
   "mimetype": "text/x-python",
   "name": "python",
   "nbconvert_exporter": "python",
   "pygments_lexer": "ipython3",
   "version": "3.9.12"
  }
 },
 "nbformat": 4,
 "nbformat_minor": 5
}
