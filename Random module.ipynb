{
 "cells": [
  {
   "cell_type": "code",
   "execution_count": 1,
   "id": "c853c235",
   "metadata": {},
   "outputs": [
    {
     "name": "stdout",
     "output_type": "stream",
     "text": [
      "630926\n",
      "576240\n",
      "950000\n",
      "872499\n",
      "596495\n",
      "196075\n"
     ]
    }
   ],
   "source": [
    "import random\n",
    "\n",
    "for i in range(6):\n",
    "    \n",
    "    c=random.randint(100000,999999)\n",
    "    print(c)\n"
   ]
  },
  {
   "cell_type": "code",
   "execution_count": 3,
   "id": "ce8912ae",
   "metadata": {},
   "outputs": [
    {
     "name": "stdout",
     "output_type": "stream",
     "text": [
      "['b', 'i', 'n', 'a', 'r', 'y']\n",
      "ybrnia\n",
      "nbiyra\n",
      "yanbri\n",
      "yanirb\n",
      "nraybi\n"
     ]
    }
   ],
   "source": [
    "# anarymous word\n",
    "\n",
    "import random as ran\n",
    "\n",
    "s='binary'\n",
    "ls=list(s)\n",
    "print(ls)\n",
    "\n",
    "for i in range(5):\n",
    "    ran.shuffle(ls)\n",
    "    print(''.join(ls))\n",
    "    "
   ]
  },
  {
   "cell_type": "code",
   "execution_count": 5,
   "id": "95490a6f",
   "metadata": {},
   "outputs": [
    {
     "name": "stdout",
     "output_type": "stream",
     "text": [
      "4X1h2O\n"
     ]
    }
   ],
   "source": [
    "# password Genarate\n",
    "\n",
    "import random as ran\n",
    "import string\n",
    "\n",
    "\n",
    "a=string.ascii_letters\n",
    "b=string.digits\n",
    "\n",
    "pwd=''\n",
    "for i in range(1,7):\n",
    "    if i%2==0:\n",
    "        pwd+=ran.choice(a)\n",
    "    else:\n",
    "        pwd+=ran.choice(b)\n",
    "\n",
    "\n",
    "print(pwd)"
   ]
  },
  {
   "cell_type": "code",
   "execution_count": 10,
   "id": "e6e687b4",
   "metadata": {},
   "outputs": [
    {
     "name": "stdout",
     "output_type": "stream",
     "text": [
      "Pair1 mahesh & sakshi \n",
      "Pair2 vaibhav & shradhha \n",
      "Pair3 sumit & jagruti \n",
      "Pair4 jayesh & kalyani \n",
      "Pair5 harshajeet & divya \n"
     ]
    }
   ],
   "source": [
    "# game\n",
    "\n",
    "boys=['vaibhav','harshajeet','sumit','mahesh','jayesh']\n",
    "girls=['sakshi','shradhha','jagruti','divya','kalyani']\n",
    "\n",
    "for i in range(1,6):\n",
    "    boy=ran.choice(boys)\n",
    "    girl=ran.choice(girls)\n",
    "    \n",
    "    print(f\"Pair{i} {boy} & {girl} \")\n",
    "    \n",
    "    boys.remove(boy)\n",
    "    girls.remove(girl)\n",
    "    \n",
    "    \n"
   ]
  },
  {
   "cell_type": "code",
   "execution_count": 14,
   "id": "67eb7339",
   "metadata": {},
   "outputs": [
    {
     "name": "stdout",
     "output_type": "stream",
     "text": [
      "2023-03-11\n",
      "Sat Mar 11 00:00:00 2023\n",
      "2023-03-11\n"
     ]
    }
   ],
   "source": [
    "# datetime module\n",
    "\n",
    "from datetime import date\n",
    "\n",
    "c=date.today()\n",
    "print(c)\n",
    "\n",
    "print(c.ctime())\n",
    "print(c.isoformat())\n"
   ]
  },
  {
   "cell_type": "code",
   "execution_count": null,
   "id": "abd879e6",
   "metadata": {},
   "outputs": [],
   "source": []
  }
 ],
 "metadata": {
  "kernelspec": {
   "display_name": "Python 3 (ipykernel)",
   "language": "python",
   "name": "python3"
  },
  "language_info": {
   "codemirror_mode": {
    "name": "ipython",
    "version": 3
   },
   "file_extension": ".py",
   "mimetype": "text/x-python",
   "name": "python",
   "nbconvert_exporter": "python",
   "pygments_lexer": "ipython3",
   "version": "3.10.9"
  }
 },
 "nbformat": 4,
 "nbformat_minor": 5
}
