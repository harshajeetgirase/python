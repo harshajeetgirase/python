{
 "cells": [
  {
   "cell_type": "code",
   "execution_count": 1,
   "id": "f9e7036e",
   "metadata": {},
   "outputs": [
    {
     "name": "stdout",
     "output_type": "stream",
     "text": [
      "Enter a your name: harshajeet\n",
      "Enter a your age : 25\n",
      "My name is harshajeet and my age is 25\n"
     ]
    }
   ],
   "source": [
    "# string Formatting using Format function\n",
    "\n",
    "x='Harshajeet'\n",
    "c=45\n",
    "\n",
    "ha=input(\"Enter a your name: \")\n",
    "ba=int(input(\"Enter a your age : \"))\n",
    "\n",
    "print(\"My name is {} and my age is {}\".format(ha,ba))"
   ]
  },
  {
   "cell_type": "code",
   "execution_count": 2,
   "id": "21164999",
   "metadata": {},
   "outputs": [
    {
     "name": "stdout",
     "output_type": "stream",
     "text": [
      "Decimel NUmber : 30\n",
      "Binnary NUmber : 11110\n",
      "Float NUmber : 30.000000\n",
      "Oct NUmber : 36\n"
     ]
    }
   ],
   "source": [
    "# formattinf function bin,oct,deci,oct,\n",
    "\n",
    "print(\"Decimel NUmber : {:d}\".format(30))\n",
    "print(\"Binnary NUmber : {:b}\".format(30))\n",
    "print(\"Float NUmber : {:f}\".format(30))\n",
    "print(\"Oct NUmber : {:o}\".format(30))"
   ]
  },
  {
   "cell_type": "code",
   "execution_count": 3,
   "id": "96de6947",
   "metadata": {},
   "outputs": [
    {
     "name": "stdout",
     "output_type": "stream",
     "text": [
      "harshajeet"
     ]
    }
   ],
   "source": [
    "# string \n",
    "\n",
    "ha=\"harshajeet\"\n",
    "\n",
    "for i in ha:\n",
    "    print(i,end=\"\")\n",
    "    "
   ]
  },
  {
   "cell_type": "code",
   "execution_count": 4,
   "id": "8d3fef99",
   "metadata": {},
   "outputs": [
    {
     "name": "stdout",
     "output_type": "stream",
     "text": [
      "Enter a string : harshajee\n",
      "HARSHAJEE\n"
     ]
    }
   ],
   "source": [
    "# swappcase function which is used to convert lowcase to high case and vice versa\n",
    "\n",
    "st=input(\"Enter a string : \")\n",
    "\n",
    "print(st.swapcase())\n"
   ]
  },
  {
   "cell_type": "code",
   "execution_count": 5,
   "id": "03d134aa",
   "metadata": {},
   "outputs": [
    {
     "name": "stdout",
     "output_type": "stream",
     "text": [
      "Index number 0 : h\n",
      "Index number 1 : e\n",
      "Index number 2 : l\n",
      "Index number 3 : l\n",
      "Index number 4 : o\n",
      "Index number 5 :  \n",
      "Index number 6 : w\n",
      "Index number 7 : o\n",
      "Index number 8 : r\n",
      "Index number 9 : l\n",
      "Index number 10 : d\n",
      "\n",
      "Index number 10 : d\n",
      "Index number 9 : l\n",
      "Index number 8 : r\n",
      "Index number 7 : o\n",
      "Index number 6 : w\n",
      "Index number 5 :  \n",
      "Index number 4 : o\n",
      "Index number 3 : l\n",
      "Index number 2 : l\n",
      "Index number 1 : e\n",
      "Index number 0 : h\n"
     ]
    }
   ],
   "source": [
    "# string print input string in forwars and backward using while loop\n",
    "\n",
    "# forward direction\n",
    "word=\"hello world\"\n",
    "i=0\n",
    "while i<len(word):\n",
    "    print(\"Index number %d : %s\"%(i,word[i]))\n",
    "    i+=1\n",
    "    \n",
    "print()\n",
    "\n",
    "# backwars direction\n",
    "j=len(word)-1\n",
    "while j >= 0:\n",
    "    print(\"Index number %d : %s\"%(j,word[j]))\n",
    "    j-=1"
   ]
  },
  {
   "cell_type": "code",
   "execution_count": 6,
   "id": "228e1842",
   "metadata": {},
   "outputs": [
    {
     "name": "stdout",
     "output_type": "stream",
     "text": [
      "h e l l o   w o r l d   \n",
      "  d l r o w   o l l e h "
     ]
    }
   ],
   "source": [
    "# by using the for loop\n",
    "\n",
    "st=\"hello world \"\n",
    "for i in st:\n",
    "    print(i,end=\" \")\n",
    "\n",
    "print()   \n",
    "for i in st[::-1]:\n",
    "    print(i,end=\" \")"
   ]
  },
  {
   "cell_type": "code",
   "execution_count": 7,
   "id": "ec243b49",
   "metadata": {},
   "outputs": [],
   "source": [
    "#print(st*10)"
   ]
  },
  {
   "cell_type": "code",
   "execution_count": 8,
   "id": "623dd8c6",
   "metadata": {},
   "outputs": [],
   "source": [
    "#print(print(print(\"*\")))"
   ]
  },
  {
   "cell_type": "code",
   "execution_count": 9,
   "id": "695f7f05",
   "metadata": {},
   "outputs": [
    {
     "name": "stdout",
     "output_type": "stream",
     "text": [
      "\n",
      "*\n",
      "**\n",
      "***\n",
      "****\n"
     ]
    }
   ],
   "source": [
    "for i in range(5):\n",
    "    print(i*\"*\")"
   ]
  },
  {
   "cell_type": "code",
   "execution_count": 10,
   "id": "5dda2ac6",
   "metadata": {},
   "outputs": [
    {
     "name": "stdout",
     "output_type": "stream",
     "text": [
      "Two string is identical \n"
     ]
    }
   ],
   "source": [
    "# checked weather two string are identical or not \n",
    "s1=\"Hello world\"\n",
    "s2=\"Hello world\"\n",
    "\n",
    "if s1==s2:\n",
    "    print(\"Two string is identical \")\n",
    "else:\n",
    "    print(\"Both string different\")"
   ]
  },
  {
   "cell_type": "code",
   "execution_count": 11,
   "id": "10670542",
   "metadata": {},
   "outputs": [
    {
     "name": "stdout",
     "output_type": "stream",
     "text": [
      "Given string is not palindrome\n"
     ]
    }
   ],
   "source": [
    "# checked weather given string is palindrome or not\n",
    "st=\"harsha\"\n",
    "\n",
    "if st==st[::-1]:\n",
    "    print(\"Given string is the palindrome\")\n",
    "else:\n",
    "    print(\"Given string is not palindrome\")\n"
   ]
  },
  {
   "cell_type": "code",
   "execution_count": 12,
   "id": "9a2f1806",
   "metadata": {},
   "outputs": [
    {
     "data": {
      "text/plain": [
       "'HARSHAJEET GIRASE'"
      ]
     },
     "execution_count": 12,
     "metadata": {},
     "output_type": "execute_result"
    }
   ],
   "source": [
    "# membership operator in python\n",
    "# in or not-in two membership operator operator\n",
    "\n",
    "s=\"Harshajeet Girase\"\n",
    "s.upper()"
   ]
  },
  {
   "cell_type": "code",
   "execution_count": 13,
   "id": "7c1aa235",
   "metadata": {},
   "outputs": [
    {
     "data": {
      "text/plain": [
       "'harshajeet girase'"
      ]
     },
     "execution_count": 13,
     "metadata": {},
     "output_type": "execute_result"
    }
   ],
   "source": [
    "s.lower()"
   ]
  },
  {
   "cell_type": "code",
   "execution_count": 14,
   "id": "e4a4eafd",
   "metadata": {},
   "outputs": [
    {
     "data": {
      "text/plain": [
       "'hARSHAJEET gIRASE'"
      ]
     },
     "execution_count": 14,
     "metadata": {},
     "output_type": "execute_result"
    }
   ],
   "source": [
    "s.swapcase()  # conver upper to lower and lower to upper"
   ]
  },
  {
   "cell_type": "code",
   "execution_count": 15,
   "id": "677e0bc6",
   "metadata": {},
   "outputs": [
    {
     "data": {
      "text/plain": [
       "'Hello world'"
      ]
     },
     "execution_count": 15,
     "metadata": {},
     "output_type": "execute_result"
    }
   ],
   "source": [
    "ha=\"hello world\"\n",
    "ha.capitalize()"
   ]
  },
  {
   "cell_type": "code",
   "execution_count": 16,
   "id": "cca18a1f",
   "metadata": {},
   "outputs": [
    {
     "data": {
      "text/plain": [
       "'Hello World'"
      ]
     },
     "execution_count": 16,
     "metadata": {},
     "output_type": "execute_result"
    }
   ],
   "source": [
    "ha.title()"
   ]
  },
  {
   "cell_type": "code",
   "execution_count": 17,
   "id": "baf4296c",
   "metadata": {},
   "outputs": [
    {
     "data": {
      "text/plain": [
       "4"
      ]
     },
     "execution_count": 17,
     "metadata": {},
     "output_type": "execute_result"
    }
   ],
   "source": [
    "ha.find(\"o\") # find fuction will return the index number of the given string other it will return -1"
   ]
  },
  {
   "cell_type": "code",
   "execution_count": 18,
   "id": "ac17a00d",
   "metadata": {},
   "outputs": [
    {
     "ename": "ValueError",
     "evalue": "substring not found",
     "output_type": "error",
     "traceback": [
      "\u001b[1;31m---------------------------------------------------------------------------\u001b[0m",
      "\u001b[1;31mValueError\u001b[0m                                Traceback (most recent call last)",
      "Cell \u001b[1;32mIn[18], line 3\u001b[0m\n\u001b[0;32m      1\u001b[0m \u001b[38;5;66;03m# index method is similor to the find method difference is that it will generate an value error if value \u001b[39;00m\n\u001b[0;32m      2\u001b[0m \u001b[38;5;66;03m# nott prensent in the given string\u001b[39;00m\n\u001b[1;32m----> 3\u001b[0m \u001b[43mha\u001b[49m\u001b[38;5;241;43m.\u001b[39;49m\u001b[43mindex\u001b[49m\u001b[43m(\u001b[49m\u001b[38;5;124;43m\"\u001b[39;49m\u001b[38;5;124;43mdata\u001b[39;49m\u001b[38;5;124;43m\"\u001b[39;49m\u001b[43m)\u001b[49m\n",
      "\u001b[1;31mValueError\u001b[0m: substring not found"
     ]
    }
   ],
   "source": [
    " # index method is similor to the find method difference is that it will generate an value error if value \n",
    " # nott prensent in the given string\n",
    "ha.index(\"data\")"
   ]
  },
  {
   "cell_type": "code",
   "execution_count": 19,
   "id": "9df90925",
   "metadata": {},
   "outputs": [
    {
     "data": {
      "text/plain": [
       "7"
      ]
     },
     "execution_count": 19,
     "metadata": {},
     "output_type": "execute_result"
    }
   ],
   "source": [
    "# rfind will find the element from the right side of the string\n",
    "\n",
    "ha.rfind(\"o\")"
   ]
  },
  {
   "cell_type": "code",
   "execution_count": 20,
   "id": "bb2165af",
   "metadata": {},
   "outputs": [
    {
     "data": {
      "text/plain": [
       "7"
      ]
     },
     "execution_count": 20,
     "metadata": {},
     "output_type": "execute_result"
    }
   ],
   "source": [
    "# rindex will find the element from the right of the string if the element not found then the it will generate the value\n",
    "# error\n",
    "\n",
    "ha.rindex(\"o\")"
   ]
  },
  {
   "cell_type": "code",
   "execution_count": 21,
   "id": "0bb930ad",
   "metadata": {},
   "outputs": [
    {
     "data": {
      "text/plain": [
       "2"
      ]
     },
     "execution_count": 21,
     "metadata": {},
     "output_type": "execute_result"
    }
   ],
   "source": [
    "# count willl count the number times of substring occcur \n",
    "\n",
    "ha.count(\"o\")"
   ]
  },
  {
   "cell_type": "code",
   "execution_count": 22,
   "id": "0d05cee6",
   "metadata": {},
   "outputs": [
    {
     "data": {
      "text/plain": [
       "'old data'"
      ]
     },
     "execution_count": 22,
     "metadata": {},
     "output_type": "execute_result"
    }
   ],
   "source": [
    "# replace method will old value new value\n",
    "\n",
    "h=\"new data\"\n",
    "h.replace('new','old')"
   ]
  },
  {
   "cell_type": "code",
   "execution_count": null,
   "id": "6629dfea",
   "metadata": {},
   "outputs": [],
   "source": [
    "# strip method which is used to the remove the whitespace in string \n",
    "# it has two subtypes like rstrip and lstrip\n",
    "m=\"Harshajeet Girase   \"\n",
    "m.strip()\n",
    "m.lstrip()\n",
    "m.rstrip()"
   ]
  },
  {
   "cell_type": "code",
   "execution_count": null,
   "id": "9bef62b6",
   "metadata": {},
   "outputs": [],
   "source": [
    "# split fuction which is used to the separate the given string and convert it into the list\n",
    "var=\"harshajeet 9325638944 55\"\n",
    "var.split()"
   ]
  },
  {
   "cell_type": "code",
   "execution_count": null,
   "id": "48fa88f1",
   "metadata": {},
   "outputs": [],
   "source": [
    "# join method will join the number of string into one single string\n",
    "\n",
    "\"-\".join(var)"
   ]
  },
  {
   "cell_type": "code",
   "execution_count": null,
   "id": "b5a78b48",
   "metadata": {},
   "outputs": [],
   "source": [
    "# startswith and endswith method in the string check the string start with particular word and endwith particular word\n",
    "\n",
    "s=\"indian institute of technology\"\n",
    "s.startswith(\"indian\")\n",
    "s.endswith(\"technology\")"
   ]
  },
  {
   "cell_type": "code",
   "execution_count": null,
   "id": "e1f5f5b2",
   "metadata": {},
   "outputs": [],
   "source": [
    "# isalpha check weather given string contain only alphabetic word or not \n",
    "\n",
    "v1=\"indianinstituateoftechnology\"\n",
    "v1.isalpha()"
   ]
  },
  {
   "cell_type": "code",
   "execution_count": null,
   "id": "77c2556a",
   "metadata": {},
   "outputs": [],
   "source": [
    "# isalnumeric is check weather alpha as well as digits\n",
    "v2=\"harsha123\"\n",
    "v2.isalnum()"
   ]
  },
  {
   "cell_type": "code",
   "execution_count": null,
   "id": "f0a20cb4",
   "metadata": {},
   "outputs": [],
   "source": [
    "# is space check only the space present in the string or not \n",
    "v2=\"harshajeet\"\n",
    "v2.isspace()"
   ]
  },
  {
   "cell_type": "code",
   "execution_count": null,
   "id": "4c26dbbe",
   "metadata": {},
   "outputs": [],
   "source": [
    "# islower will check weather the given string is in lowercase or \n",
    "# similar like isupper and istitle\n",
    "\n",
    "v2.islower()"
   ]
  },
  {
   "cell_type": "code",
   "execution_count": null,
   "id": "be844970",
   "metadata": {},
   "outputs": [],
   "source": [
    "# count the character will occur in the given string number of times\n",
    "\n",
    "s=input(\"Enter a string : \")\n",
    "ca=input(\"Enter a aphabet you want to the search in the given string : \")\n",
    "c=0\n",
    "for i in s:\n",
    "    if i==ca:\n",
    "        c+=1\n",
    "print(\"%s will be present %d times in the given string\"%(ca,c))"
   ]
  },
  {
   "cell_type": "code",
   "execution_count": null,
   "id": "e47be735",
   "metadata": {},
   "outputs": [],
   "source": [
    "# another method that is count fuction in python\n",
    "\n",
    "s.count(ca)"
   ]
  },
  {
   "cell_type": "code",
   "execution_count": null,
   "id": "48407d7f",
   "metadata": {},
   "outputs": [],
   "source": [
    "# count the substing present the given string\n",
    "\n",
    "s=\"hello world hello shirpur hello everyone\"\n",
    "sub=\"hello\"\n",
    "\n",
    "c=0\n",
    "for i in s:\n",
    "\n",
    "    if sub == i:\n",
    "        c+=1\n",
    "print(\"count : %d\"%(c))\n"
   ]
  },
  {
   "cell_type": "code",
   "execution_count": null,
   "id": "9bb64bed",
   "metadata": {},
   "outputs": [],
   "source": [
    "s.find(\"hello\")"
   ]
  },
  {
   "cell_type": "code",
   "execution_count": null,
   "id": "762d2d65",
   "metadata": {},
   "outputs": [],
   "source": [
    "# using while loop in pyhon\n",
    "x=s.find(sub)\n",
    "while x!=-1:\n",
    "    print(x)\n",
    "    x=s.find(sub,x+1)\n"
   ]
  },
  {
   "cell_type": "code",
   "execution_count": null,
   "id": "476cf7e0",
   "metadata": {},
   "outputs": [],
   "source": [
    "# check given mobile number is valid or not\n",
    "\n",
    "num=input(\"Enter a mobile number : \")\n",
    "\n",
    "if num.isdigit() and (len(num)==10):\n",
    "    print(\"%s is valid mobile number\"%(num))\n",
    "else:\n",
    "    print(\"%s is not valid mobile number\"%(num))"
   ]
  },
  {
   "cell_type": "code",
   "execution_count": null,
   "id": "51667e77",
   "metadata": {},
   "outputs": [],
   "source": [
    "# checked whether given character is upper ,lower,isdigit or specialcharacter or not\n",
    "\n",
    "char=input(\"Enter a valid character as input : \")\n",
    "\n",
    "if char.isupper():\n",
    "    print(\"%s is upper case\"%(char))\n",
    "elif char.islower():\n",
    "    print(\"%s is lower case\"%(char))\n",
    "elif char.isdigit():\n",
    "    print(\"%s is digit\"%(char))\n",
    "else:\n",
    "    print(\"%s is Special Symbol\"%(char))"
   ]
  },
  {
   "cell_type": "code",
   "execution_count": null,
   "id": "179686b6",
   "metadata": {},
   "outputs": [],
   "source": [
    "# sort is the string method whearas the sorted is the built in fuction in python\n",
    "\n",
    "ha=[2,45,5,6,45]\n",
    "print(sorted(ha,reverse=1))"
   ]
  },
  {
   "cell_type": "code",
   "execution_count": 26,
   "id": "f313533b",
   "metadata": {},
   "outputs": [
    {
     "name": "stdout",
     "output_type": "stream",
     "text": [
      "Enter the string : my name is girase harshjeet girae from dondiacha\n",
      "original string :  my name is girase harshjeet girae from dondiacha\n",
      "sortes string :  dondiacha from girae girase harshjeet is my name\n"
     ]
    }
   ],
   "source": [
    "# sort the striing by two method one by using the letters and other by words\n",
    "\n",
    "s=input(\"Enter the string : \")\n",
    "va=s.split()\n",
    "lst=sorted(va,reverse=0)\n",
    "res=\" \".join(lst)\n",
    "print(\"original string : \",s)\n",
    "print(\"sortes string : \",res)"
   ]
  },
  {
   "cell_type": "code",
   "execution_count": 39,
   "id": "758aec0b",
   "metadata": {},
   "outputs": [
    {
     "name": "stdout",
     "output_type": "stream",
     "text": [
      "girase harshjeet harsha\n"
     ]
    }
   ],
   "source": [
    "s=\"harsha harshjeet girase\"\n",
    "lst = s.split()\n",
    "print(\" \".join(lst[::-1]))"
   ]
  },
  {
   "cell_type": "code",
   "execution_count": 47,
   "id": "c3c2b148",
   "metadata": {},
   "outputs": [
    {
     "name": "stdout",
     "output_type": "stream",
     "text": [
      "is name my girase harshajeet "
     ]
    }
   ],
   "source": [
    "# builtu=ing fuction reversed for itertabl\n",
    "s=\"harshajeet girase my name is \"\n",
    "lst=s.split()\n",
    "for i in reversed(lst):\n",
    "    print(i,end=\" \")"
   ]
  },
  {
   "cell_type": "code",
   "execution_count": 54,
   "id": "da3f5ada",
   "metadata": {},
   "outputs": [
    {
     "name": "stdout",
     "output_type": "stream",
     "text": [
      "silent\n",
      "listen\n",
      "Anagram string\n"
     ]
    }
   ],
   "source": [
    "# anagram string means two string is said to be anagram if character of one present in other string with same length\n",
    "\n",
    "str1=input()\n",
    "str2=input()\n",
    "flag=False\n",
    "if len(str1)== len(str2):\n",
    "    for i in str1:\n",
    "        if i not in str2:\n",
    "            flag=True\n",
    "            break\n",
    "\n",
    "if flag==True:\n",
    "    print(\"Not anagram string\")\n",
    "else:\n",
    "    print(\"Anagram string\")"
   ]
  },
  {
   "cell_type": "code",
   "execution_count": 55,
   "id": "ee7622ce",
   "metadata": {},
   "outputs": [
    {
     "name": "stdout",
     "output_type": "stream",
     "text": [
      "Anagram string\n"
     ]
    }
   ],
   "source": [
    "# another method by using the sorted fuction\n",
    "\n",
    "if sorted(s1)== sorted(s2):\n",
    "    print(\"Anagram string\")\n",
    "else:\n",
    "    print(\"Not Anagram\")"
   ]
  },
  {
   "cell_type": "code",
   "execution_count": 11,
   "id": "3c006958",
   "metadata": {},
   "outputs": [
    {
     "data": {
      "text/plain": [
       "'fl'"
      ]
     },
     "execution_count": 11,
     "metadata": {},
     "output_type": "execute_result"
    }
   ],
   "source": [
    "# find the longest prefix of the string\n",
    "\n",
    "lt =['flower',\"flow\",\"flight\"]\n",
    "def pre(lt):\n",
    "    prefix=lt[0]\n",
    "    for i in lt[1:]:\n",
    "        while i[:len(prefix)] != prefix:\n",
    "            prefix = prefix[:-1]\n",
    "\n",
    "            if not prefix:\n",
    "                return \"\"\n",
    "    return prefix\n",
    "    \n",
    "pre(lt)\n",
    "# print(lt)"
   ]
  },
  {
   "cell_type": "code",
   "execution_count": 28,
   "id": "51f45a45",
   "metadata": {},
   "outputs": [
    {
     "name": "stdout",
     "output_type": "stream",
     "text": [
      "example good a "
     ]
    }
   ],
   "source": [
    "# reverse the string\n",
    "s = \"a good   example\"\n",
    "result = s.split()\n",
    "rstr= reversed(result)\n",
    "\n",
    "for i in rstr:\n",
    "    print(i ,end =\" \")\n",
    "\n",
    "# for i in range(len(result)-1,-1,-1):\n",
    "#     print(str(result[i]),end=\" \")"
   ]
  },
  {
   "cell_type": "code",
   "execution_count": null,
   "id": "99554cbe",
   "metadata": {},
   "outputs": [],
   "source": []
  }
 ],
 "metadata": {
  "kernelspec": {
   "display_name": "Python 3 (ipykernel)",
   "language": "python",
   "name": "python3"
  },
  "language_info": {
   "codemirror_mode": {
    "name": "ipython",
    "version": 3
   },
   "file_extension": ".py",
   "mimetype": "text/x-python",
   "name": "python",
   "nbconvert_exporter": "python",
   "pygments_lexer": "ipython3",
   "version": "3.10.9"
  }
 },
 "nbformat": 4,
 "nbformat_minor": 5
}
