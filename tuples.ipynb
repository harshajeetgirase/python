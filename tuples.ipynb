{
 "cells": [
  {
   "cell_type": "code",
   "execution_count": 3,
   "id": "07f51cb0",
   "metadata": {},
   "outputs": [
    {
     "name": "stdout",
     "output_type": "stream",
     "text": [
      "('abc', 'bcs', 'ghj', 5)\n"
     ]
    }
   ],
   "source": [
    "# tuples\n",
    "\n",
    "a=('abc','bcs','ghj',5) \n",
    "\n",
    "print(a)"
   ]
  },
  {
   "cell_type": "code",
   "execution_count": 4,
   "id": "2c4d6109",
   "metadata": {},
   "outputs": [
    {
     "data": {
      "text/plain": [
       "(60, 80, 85, 25)"
      ]
     },
     "execution_count": 4,
     "metadata": {},
     "output_type": "execute_result"
    }
   ],
   "source": [
    "# tuplw packing\n",
    "\n",
    "a=60\n",
    "b=80\n",
    "c=85\n",
    "d=25\n",
    "\n",
    "t=a,b,c,d\n",
    "\n",
    "t"
   ]
  },
  {
   "cell_type": "code",
   "execution_count": 7,
   "id": "bc87a886",
   "metadata": {},
   "outputs": [
    {
     "name": "stdout",
     "output_type": "stream",
     "text": [
      "5 5\n",
      "5 5\n"
     ]
    }
   ],
   "source": [
    "# tuple unpacking\n",
    "\n",
    "a,b=[x for x in input().split()]\n",
    "\n",
    "print(a,b)"
   ]
  },
  {
   "cell_type": "code",
   "execution_count": 1,
   "id": "df8f5f1d",
   "metadata": {},
   "outputs": [
    {
     "name": "stdout",
     "output_type": "stream",
     "text": [
      "harsh\n",
      "abc\n",
      "3\n",
      "5\n",
      "9\n",
      "vaibhav\n"
     ]
    }
   ],
   "source": [
    "z=(\"harsh\",'abc',3,5,9,'vaibhav')\n",
    "\n",
    "i=0\n",
    "while i<len(z):\n",
    "    print(z[i])\n",
    "    i+=1"
   ]
  },
  {
   "cell_type": "code",
   "execution_count": 10,
   "id": "bb768478",
   "metadata": {},
   "outputs": [
    {
     "name": "stdout",
     "output_type": "stream",
     "text": [
      "[60, 60, 70, 70]\n"
     ]
    }
   ],
   "source": [
    "# repeated items in tuples\n",
    "\n",
    "a=(10,20,30,40,50,60,60,70,80,90,70)\n",
    "\n",
    "b=[]\n",
    "\n",
    "\n",
    "for i in a:\n",
    "    if a.count(i)>1:\n",
    "        b.append(i)\n",
    "    \n",
    "        \n",
    "        \n",
    "print(b)"
   ]
  },
  {
   "cell_type": "code",
   "execution_count": 24,
   "id": "83b982fd",
   "metadata": {},
   "outputs": [
    {
     "name": "stdout",
     "output_type": "stream",
     "text": [
      "[('',), 'abc', 123]\n"
     ]
    }
   ],
   "source": [
    "#nremove tuple from the list\n",
    "\n",
    "a=[(),(),(\"\",),(\"abc\"),(123)]\n",
    "\n",
    "b=[]\n",
    "\n",
    "for x in a:\n",
    "    if x:\n",
    "        b.append(x)\n",
    "    \n",
    "print(b)"
   ]
  },
  {
   "cell_type": "code",
   "execution_count": 6,
   "id": "d1cb17f4",
   "metadata": {},
   "outputs": [
    {
     "name": "stdout",
     "output_type": "stream",
     "text": [
      "Enter a number : 0\n",
      "ZeroDivisionError is occured\n",
      "There is no error\n"
     ]
    }
   ],
   "source": [
    "try:\n",
    "    a=int(input(\"Enter a number : \"))\n",
    "    print(1/a)\n",
    "except ZeroDivisionError :\n",
    "    print(\"ZeroDivisionError is occured\")\n",
    "finally:\n",
    "    print(\"There is no error\")"
   ]
  },
  {
   "cell_type": "code",
   "execution_count": null,
   "id": "d36dd5c9",
   "metadata": {},
   "outputs": [],
   "source": []
  },
  {
   "cell_type": "code",
   "execution_count": null,
   "id": "0da6cef7",
   "metadata": {},
   "outputs": [],
   "source": []
  }
 ],
 "metadata": {
  "kernelspec": {
   "display_name": "Python 3 (ipykernel)",
   "language": "python",
   "name": "python3"
  },
  "language_info": {
   "codemirror_mode": {
    "name": "ipython",
    "version": 3
   },
   "file_extension": ".py",
   "mimetype": "text/x-python",
   "name": "python",
   "nbconvert_exporter": "python",
   "pygments_lexer": "ipython3",
   "version": "3.10.9"
  }
 },
 "nbformat": 4,
 "nbformat_minor": 5
}
